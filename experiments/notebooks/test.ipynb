{
 "cells": [
  {
   "cell_type": "code",
   "execution_count": 2,
   "metadata": {},
   "outputs": [],
   "source": [
    "# docker run -p 6333:6333 qdrant/qdrant"
   ]
  },
  {
   "cell_type": "code",
   "execution_count": 3,
   "metadata": {},
   "outputs": [
    {
     "name": "stderr",
     "output_type": "stream",
     "text": [
      "/home/ilgiz/dev/RAG-On-Obsidian/venv/lib/python3.12/site-packages/tqdm/auto.py:21: TqdmWarning: IProgress not found. Please update jupyter and ipywidgets. See https://ipywidgets.readthedocs.io/en/stable/user_install.html\n",
      "  from .autonotebook import tqdm as notebook_tqdm\n"
     ]
    }
   ],
   "source": [
    "from sentence_transformers import SentenceTransformer\n",
    "from qdrant_client import QdrantClient\n",
    "from qdrant_client.http.models import VectorParams\n",
    "from qdrant_client.http.models import Distance\n",
    "from pprint import pprint\n",
    "\n",
    "from embedder import get_sentences_embeddings\n",
    "from text_splitter import CustomTextSplitter\n",
    "from retriever import CustomRetriever\n",
    "from utils import folder_into_db_collection"
   ]
  },
  {
   "cell_type": "code",
   "execution_count": 4,
   "metadata": {},
   "outputs": [],
   "source": [
    "prefixes = {'query': 'query: ', 'instance': 'passage: '}\n",
    "\n",
    "sentence_embedder = SentenceTransformer('intfloat/multilingual-e5-small')\n",
    "VECTOR_SIZE = get_sentences_embeddings(\n",
    "    ['Hello, world!'], sentence_embedder, prefix=prefixes['instance']).shape\n",
    "collection_name = 'obsidian-vault'"
   ]
  },
  {
   "cell_type": "code",
   "execution_count": 5,
   "metadata": {},
   "outputs": [
    {
     "name": "stderr",
     "output_type": "stream",
     "text": [
      "/tmp/ipykernel_194024/3941071796.py:4: DeprecationWarning: `recreate_collection` method is deprecated and will be removed in the future. Use `collection_exists` to check collection existence and `create_collection` instead.\n",
      "  qdrant_client.recreate_collection(\n"
     ]
    },
    {
     "data": {
      "text/plain": [
       "True"
      ]
     },
     "execution_count": 5,
     "metadata": {},
     "output_type": "execute_result"
    }
   ],
   "source": [
    "url = \"http://localhost:6333\"\n",
    "qdrant_client = QdrantClient(url)\n",
    "\n",
    "qdrant_client.recreate_collection(\n",
    "    collection_name=collection_name,\n",
    "    vectors_config=VectorParams(\n",
    "        size=VECTOR_SIZE[1],\n",
    "        distance=Distance.COSINE),\n",
    "            )"
   ]
  },
  {
   "cell_type": "code",
   "execution_count": null,
   "metadata": {},
   "outputs": [],
   "source": [
    "chunk_size = 1024\n",
    "\n",
    "folder_into_db_collection(\n",
    "    '../data/KnowledgeStore',\n",
    "    qdrant_client,\n",
    "    CustomTextSplitter(\n",
    "        chunk_size=chunk_size,\n",
    "        chunk_overlap=chunk_size // 2),\n",
    "    sentence_embedder,\n",
    "    prefix=prefixes['instance'])"
   ]
  },
  {
   "cell_type": "code",
   "execution_count": 7,
   "metadata": {},
   "outputs": [],
   "source": [
    "retriever = CustomRetriever(\n",
    "    qdrant_client=qdrant_client,\n",
    "    embedder=sentence_embedder,\n",
    "    collection_name=collection_name,\n",
    "    prefix=prefixes['query'],\n",
    "    )\n"
   ]
  },
  {
   "cell_type": "code",
   "execution_count": 9,
   "metadata": {},
   "outputs": [
    {
     "name": "stdout",
     "output_type": "stream",
     "text": [
      "ScoredPoint(id='8009eecb-128a-41e6-bd5d-00de0389ee46', version=678, score=0.9016307, payload={'file_path': '../data/KnowledgeStore/REST.md', 'filename': 'REST.md', 'text': 'REST (REpresentational\\xa0State\\xa0Transfer) - \\xa0архитектурный стиль \\xa0взаимодействия компонентов распределённого приложения в\\xa0сети.\\nОн отличается от SOAP тем, что не является протоколом и стандартом.\\n\\n## Требования\\n\\n1. Модель клиент-сервер - разграничение на две стороны\\n2. Stateless - вся необходимая информация находится в самом запросе/ответе\\n3. Кэширование - реализуется на промежуточных серверах, необходимо для повышения производительности, сервер должен сам определить что кэшировать и как долго\\n4. Унифицированный интерфейс - идентификация ресурсов по URI\\n5. Уровневая структура - \\n6. Код по требованию - сервер может передать код для клиента\\n\\n## Плохие варианты\\n\\n- Введение новых HTTP-методов\\n- `/missiles/[id]?action=launch` - действия в параметре запроса\\n- `/missiles/[id]/launch` - глагол в URI\\n\\n## Хорошие варианты\\n\\nСамый простой и сравнительно честный способ оформлять «действия» в REST — вводить ресурс, представляющий\\xa0результат\\xa0этого действия\\n\\n- `/users/[id]/cars`\\n-'}, vector=None, shard_key=None, order_value=None)\n",
      "****\n",
      "REST.md\n",
      "REST (REpresentational State Transfer) -  архитектурный стиль  взаимодействия компонентов распределённого приложения в сети.\n",
      "Он отличается от SOAP тем, что не является протоколом и стандартом.\n",
      "\n",
      "## Требования\n",
      "\n",
      "1. Модель клиент-сервер - разграничение на две стороны\n",
      "2. Stateless - вся необходимая информация находится в самом запросе/ответе\n",
      "3. Кэширование - реализуется на промежуточных серверах, необходимо для повышения производительности, сервер должен сам определить что кэшировать и как долго\n",
      "4. Унифицированный интерфейс - идентификация ресурсов по URI\n",
      "5. Уровневая структура - \n",
      "6. Код по требованию - сервер может передать код для клиента\n",
      "\n",
      "## Плохие варианты\n",
      "\n",
      "- Введение новых HTTP-методов\n",
      "- `/missiles/[id]?action=launch` - действия в параметре запроса\n",
      "- `/missiles/[id]/launch` - глагол в URI\n",
      "\n",
      "## Хорошие варианты\n",
      "\n",
      "Самый простой и сравнительно честный способ оформлять «действия» в REST — вводить ресурс, представляющий результат этого действия\n",
      "\n",
      "- `/users/[id]/cars`\n",
      "-\n",
      "ScoredPoint(id='e409c4b9-b1bd-41a2-8d0c-0197145f4665', version=512, score=0.8336327, payload={'file_path': '../data/KnowledgeStore/Django REST Framework.md', 'filename': 'Django REST Framework.md', 'text': '#Python-library #Backend\\n\\nЭто библиотека для создания REST API в [[Django]]-проекте\\n\\n## Место DRF в Django-приложении\\n\\nКлиентский запрос поступает в маршрутизатор и передается подходящему представлению (view), в представлении происходит десериализация json-данных в Python-объект (здесь же происходит валидация полей), бизнес логика и сериализация ответа в json-формат, ответ отправляется клиенту.\\n\\n## Установка\\n\\n```bash\\npip install django djangorestframework\\n```'}, vector=None, shard_key=None, order_value=None)\n",
      "****\n",
      "Django REST Framework.md\n",
      "#Python-library #Backend\n",
      "\n",
      "Это библиотека для создания REST API в [[Django]]-проекте\n",
      "\n",
      "## Место DRF в Django-приложении\n",
      "\n",
      "Клиентский запрос поступает в маршрутизатор и передается подходящему представлению (view), в представлении происходит десериализация json-данных в Python-объект (здесь же происходит валидация полей), бизнес логика и сериализация ответа в json-формат, ответ отправляется клиенту.\n",
      "\n",
      "## Установка\n",
      "\n",
      "```bash\n",
      "pip install django djangorestframework\n",
      "```\n",
      "ScoredPoint(id='2238ede4-574b-4d57-8207-61dd6aeacce7', version=177, score=0.8265077, payload={'file_path': '../data/KnowledgeStore/Apache Kafka.md', 'filename': 'Apache Kafka.md', 'text': '#Big-Data\\n\\nЭто [[Брокер сообщений]], распределенная платформа для потоковой обработки событий, обмена сообщениями в режиме реального времени для реализации [[Event Driven Architecture]]\\nЕще её называют распределенным логом, так как данные пишутся в конец очереди не модифицируются\\nKafka пассивна и максимально глупая, но производительная\\n### Основные термины\\n\\n**Producer** - сервис, который поставляет сообщения в очередь\\n**Consumer** - сервис, который потребляет сообщения из очереди\\n**Event** - сообщение, имеющее следующую структуру:\\n- Ключ - идентификатор сообщения\\n- Значение - полезная нагрузка в байтах\\n- Таймстамп - временная отметка появления сообщения в брокере\\n**Topic** - место, в котором хранятся однородные сообщения, является логическим разделением данных в Kafka. Может быть разделено на несколько партиций\\n**Partition** - часть топика, где физически хранятся сообщения'}, vector=None, shard_key=None, order_value=None)\n",
      "****\n",
      "Apache Kafka.md\n",
      "#Big-Data\n",
      "\n",
      "Это [[Брокер сообщений]], распределенная платформа для потоковой обработки событий, обмена сообщениями в режиме реального времени для реализации [[Event Driven Architecture]]\n",
      "Еще её называют распределенным логом, так как данные пишутся в конец очереди не модифицируются\n",
      "Kafka пассивна и максимально глупая, но производительная\n",
      "### Основные термины\n",
      "\n",
      "**Producer** - сервис, который поставляет сообщения в очередь\n",
      "**Consumer** - сервис, который потребляет сообщения из очереди\n",
      "**Event** - сообщение, имеющее следующую структуру:\n",
      "- Ключ - идентификатор сообщения\n",
      "- Значение - полезная нагрузка в байтах\n",
      "- Таймстамп - временная отметка появления сообщения в брокере\n",
      "**Topic** - место, в котором хранятся однородные сообщения, является логическим разделением данных в Kafka. Может быть разделено на несколько партиций\n",
      "**Partition** - часть топика, где физически хранятся сообщения\n",
      "ScoredPoint(id='085753ba-fca7-44c7-adb1-d3503577a6f8', version=958, score=0.8254738, payload={'file_path': '../data/KnowledgeStore/Брокер сообщений.md', 'filename': 'Брокер сообщений.md', 'text': '#Architecture \\n\\n### Кейсы применения\\n\\n- Буферизация \\n- Асинхронная связь \\n- Слабое связывание \\n- Масштабируемость \\n- Отказоустойчивость \\n- Понимание потоков данных\\n\\n### Модель доставки сообщений\\n\\n- push - очередь сама предаёт сервису сообщение \\n- pull - сервис сам приходит и забирает сообщение\\n\\n### Гарантии доставки\\n\\n- At least once - сообщение будет доставлено хотя бы один раз \\n- At most once - сообщение будет доставлено не более одного раза \\n- Exactly once - сообщение будет доставлено ровно один раз\\n\\n### Data retention\\n\\nХранение данных определяет политики управления постоянными данными и записями для соблюдения юридических и бизнес-требований к архивированию данных.'}, vector=None, shard_key=None, order_value=None)\n",
      "****\n",
      "Брокер сообщений.md\n",
      "#Architecture \n",
      "\n",
      "### Кейсы применения\n",
      "\n",
      "- Буферизация \n",
      "- Асинхронная связь \n",
      "- Слабое связывание \n",
      "- Масштабируемость \n",
      "- Отказоустойчивость \n",
      "- Понимание потоков данных\n",
      "\n",
      "### Модель доставки сообщений\n",
      "\n",
      "- push - очередь сама предаёт сервису сообщение \n",
      "- pull - сервис сам приходит и забирает сообщение\n",
      "\n",
      "### Гарантии доставки\n",
      "\n",
      "- At least once - сообщение будет доставлено хотя бы один раз \n",
      "- At most once - сообщение будет доставлено не более одного раза \n",
      "- Exactly once - сообщение будет доставлено ровно один раз\n",
      "\n",
      "### Data retention\n",
      "\n",
      "Хранение данных определяет политики управления постоянными данными и записями для соблюдения юридических и бизнес-требований к архивированию данных.\n",
      "==============================\n",
      "****\n",
      "CAP-теорема.md\n",
      "#Паттерн \n",
      "## Определение\n",
      "\n",
      "CAP Теорема (теорема Брюера) — утверждение о том, что в любой реализации распределённых вычислений возможно обеспечить не более двух из трёх следующих свойств: Consistency, Availability, Partition tolerance.\n",
      "\n",
      "**Consistency** (согласованность данных) — во всех вычислительных узлах в один момент времени данные не противоречат друг другу, то есть каждое чтение возвращает самую последнюю актуальную запись\n",
      "\n",
      "**Availability** (доступность) — любой запрос к распределённой системе завершается корректным откликом, однако без гарантии, что ответы всех узлов системы совпадают; \n",
      "\n",
      "**Partition tolerance** (устойчивость к разделению) — расщепление распределённой системы на несколько изолированных секций не приводит к некорректности отклика от каждой из секций.\n",
      "\n",
      "## С точки зрения хранилищ данных\n",
      "\n",
      "![[Pasted image 20240304133954.png]]\n",
      "****\n",
      "CAP-теорема.md\n",
      "### CAP-теорема для MongoDB\n",
      "\n",
      "Следующие пункты относятся к абстрактной распределенной БД MongoDB.  \n",
      "- MongoDB обеспечивает strong consistency, потому что это система с одним Master узлом, и все записи идут по умолчанию в него.\n",
      "- Автоматическая смена мастера, в случае отделения его от остальных узлов.\n",
      "- В случае разделения сети, система прекратит принимать записи до тех пор, пока не убедится, что может безопасно завершить их. \n",
      "- Доступность не достигается, так как нельзя писать не реплики (только чтение)\n",
      "Таким образом, система может продолжать работу в случае разделения сети, но теряется CAP-availability всех узлов. Это CP система!\n",
      "****\n",
      "CAP-теорема.md\n",
      "## С точки зрения хранилищ данных\n",
      "\n",
      "![[Pasted image 20240304133954.png]]\n",
      "### CAP-теорема для Postgresql\n",
      "\n",
      "Следующие пункты относятся к абстрактной распределенной БД Postgresql.  \n",
      "- Репликация Master-Slave — одно из распространенных решений\n",
      "- Синхронизация с Master в асинхронном / синхронном режиме\n",
      "- Система транзакций использует двухфазный коммит для обеспечения consistency\n",
      "- Если возникает partition, вы не можете взаимодейстовать с системой (в основном случае)\n",
      "Таким образом, система не может продолжать работу в случае partition, но обеспечивает strong consistency и availability. Это система CA!\n",
      "****\n",
      "CAP-теорема.md\n",
      "### CAP-теорема для Cassandra\n",
      "\n",
      "Cassandra использует схему репликации master-master, что фактически означает AP систему, в которой разделение сети приводит к самодостаточному функционированию всех узлов, то есть во все узлы можно и писать и читать.  \n",
      "\n",
      "**Для продакшена:** \n",
      "AС - если возможно - в основном это RDBMS\n",
      "AP - иначе \n",
      "\n",
      "**Для логов, аналитики и тд:** \n",
      "СA - если возможно - в основном это RDBMS\n",
      "CP - когда, данных много - для них характерна eventually consistency\n"
     ]
    }
   ],
   "source": [
    "\n",
    "search_result = retriever.get_relevant_documents(\n",
    "    \"Чем отличается REST от SOAP?\", limit=4)\n",
    "for result in search_result:\n",
    "    pprint(result)\n",
    "    print('****')\n",
    "    print(result.payload['filename'])\n",
    "    print(result.payload['text'])\n",
    "\n",
    "print('===' * 10)\n",
    "\n",
    "search_result = retriever.get_relevant_documents(\n",
    "    \"В чем суть CAP-теоремы?\", limit=4)\n",
    "for result in search_result:\n",
    "    print('****')\n",
    "    print(result.payload['filename'])\n",
    "    print(result.payload['text'])"
   ]
  }
 ],
 "metadata": {
  "kernelspec": {
   "display_name": "venv",
   "language": "python",
   "name": "python3"
  },
  "language_info": {
   "codemirror_mode": {
    "name": "ipython",
    "version": 3
   },
   "file_extension": ".py",
   "mimetype": "text/x-python",
   "name": "python",
   "nbconvert_exporter": "python",
   "pygments_lexer": "ipython3",
   "version": "3.12.3"
  }
 },
 "nbformat": 4,
 "nbformat_minor": 2
}
