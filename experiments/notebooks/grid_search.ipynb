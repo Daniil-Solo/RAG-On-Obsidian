{
 "cells": [
  {
   "cell_type": "code",
   "execution_count": 1,
   "metadata": {},
   "outputs": [
    {
     "name": "stderr",
     "output_type": "stream",
     "text": [
      "/home/ilgiz/dev/RAG-On-Obsidian/venv/lib/python3.12/site-packages/tqdm/auto.py:21: TqdmWarning: IProgress not found. Please update jupyter and ipywidgets. See https://ipywidgets.readthedocs.io/en/stable/user_install.html\n",
      "  from .autonotebook import tqdm as notebook_tqdm\n"
     ]
    }
   ],
   "source": [
    "import pandas as pd\n",
    "from sentence_transformers import SentenceTransformer\n",
    "from qdrant_client import QdrantClient\n",
    "from qdrant_client.http.models import VectorParams\n",
    "from qdrant_client.http.models import Distance\n",
    "\n",
    "from embedder import get_sentences_embeddings\n",
    "from text_splitter import CustomTextSplitter\n",
    "from retriever import CustomRetriever\n",
    "from utils import folder_into_db_collection\n",
    "from metrics import average_precision_at_k"
   ]
  },
  {
   "cell_type": "code",
   "execution_count": 2,
   "metadata": {},
   "outputs": [],
   "source": [
    "validation_data = pd.read_csv('../data/validation_dataset.csv')\n",
    "questions = validation_data.question.to_list()\n",
    "related_documents = validation_data.related_documents.to_list()\n",
    "for i in range(len(related_documents)):\n",
    "    related_documents[i] = related_documents[i].split(',')"
   ]
  },
  {
   "cell_type": "code",
   "execution_count": 3,
   "metadata": {},
   "outputs": [],
   "source": [
    "url = \"http://localhost:6333\"\n",
    "qdrant_client = QdrantClient(url)"
   ]
  },
  {
   "cell_type": "code",
   "execution_count": 4,
   "metadata": {},
   "outputs": [],
   "source": [
    "similarity_metrics = [\n",
    "    (Distance.COSINE, 'cosine'), \n",
    "    ]\n",
    "\n",
    "no_prefix = {'query': '', 'instance': ''}\n",
    "\n",
    "embedder_prefix = {\n",
    "    'intfloat/multilingual-e5-large': {'query': 'query: ',\n",
    "                                       'instance': 'passage: '},\n",
    "    'intfloat/multilingual-e5-base': {'query': 'query: ',\n",
    "                                       'instance': 'passage: '},\n",
    "    'intfloat/multilingual-e5-small': {'query': 'query: ',\n",
    "                                       'instance': 'passage: '},\n",
    "    'ai-forever/ru-en-RoSBERTa': {'query': 'search_query: ', \n",
    "                                  'instance': 'search_document: '},\n",
    "    'deepvk/USER-bge-m3': no_prefix,\n",
    "    'deepvk/USER-base': no_prefix,\n",
    "    'sergeyzh/LaBSE-ru-turbo': no_prefix,\n",
    "    'cointegrated/LaBSE-en-ru': no_prefix,\n",
    "    'sergeyzh/rubert-tiny-turbo': no_prefix,\n",
    "    'cointegrated/rubert-tiny2': no_prefix,\n",
    "}\n",
    "\n",
    "embedder_names = [\n",
    "    'intfloat/multilingual-e5-large',\n",
    "    'intfloat/multilingual-e5-base',\n",
    "    'intfloat/multilingual-e5-small',\n",
    "    'ai-forever/ru-en-RoSBERTa',\n",
    "    'deepvk/USER-bge-m3',\n",
    "    'deepvk/USER-base',\n",
    "    'sergeyzh/LaBSE-ru-turbo',\n",
    "    'cointegrated/LaBSE-en-ru',\n",
    "    'sergeyzh/rubert-tiny-turbo',\n",
    "    'cointegrated/rubert-tiny2',\n",
    "    ]\n",
    "chunk_sizes = [512, 1024, 1536, 2048]\n"
   ]
  },
  {
   "cell_type": "code",
   "execution_count": 5,
   "metadata": {},
   "outputs": [],
   "source": [
    "columns = ['AP_K', 'embedder_name', 'metric_name', 'chunk_size']\n",
    "# df_metrics = pd.DataFrame(columns=columns)\n",
    "df_metrics = pd.read_csv('metrics.csv')"
   ]
  },
  {
   "cell_type": "code",
   "execution_count": null,
   "metadata": {},
   "outputs": [],
   "source": [
    "collection_name = \"obsidian-vault\"\n",
    "for embedder_name in embedder_names:\n",
    "    sentence_embedder = SentenceTransformer(embedder_name)\n",
    "    query_prefix = embedder_prefix[embedder_name]['query']\n",
    "    instance_prefix = embedder_prefix[embedder_name]['instance']\n",
    "    for metric in similarity_metrics:\n",
    "        metric_name = metric[1]\n",
    "        for chunk_size in chunk_sizes:\n",
    "            VECTOR_SIZE = get_sentences_embeddings(\n",
    "                ['Hello, world!'], sentence_embedder, prefix=instance_prefix).shape\n",
    "            qdrant_client.recreate_collection(\n",
    "                collection_name=collection_name,\n",
    "                vectors_config=VectorParams(\n",
    "                    size=VECTOR_SIZE[1],\n",
    "                    distance=metric[0]),\n",
    "            )\n",
    "            folder_into_db_collection(\n",
    "                '../data/KnowledgeStore',\n",
    "                qdrant_client,\n",
    "                CustomTextSplitter(\n",
    "                    chunk_size=chunk_size,\n",
    "                    chunk_overlap=chunk_size // 2),\n",
    "                sentence_embedder,\n",
    "                prefix=instance_prefix)\n",
    "            retriever = CustomRetriever(\n",
    "                qdrant_client=qdrant_client,\n",
    "                embedder=sentence_embedder,\n",
    "                collection_name=collection_name,\n",
    "                prefix=query_prefix,\n",
    "                )\n",
    "            ap_K = []\n",
    "            for i, question in enumerate(questions):\n",
    "                search_results = retriever.get_relevant_documents(question, limit=10)\n",
    "                search_results = [result.payload['filename'] for result in search_results]\n",
    "                ap_K.append(average_precision_at_k(\n",
    "                    search_results, related_documents[i], 10))\n",
    "            AP_K = sum(ap_K) / len(ap_K)\n",
    "            new_row = pd.DataFrame((AP_K, embedder_name, metric_name, chunk_size),\n",
    "                                 index=columns)\n",
    "            df_metrics = pd.concat(\n",
    "                [df_metrics, new_row.T], ignore_index=True)\n",
    "            df_metrics.to_csv('metrics.csv', index=False)\n",
    "    print(f'Finished {embedder_name}')"
   ]
  }
 ],
 "metadata": {
  "kernelspec": {
   "display_name": "venv",
   "language": "python",
   "name": "python3"
  },
  "language_info": {
   "codemirror_mode": {
    "name": "ipython",
    "version": 3
   },
   "file_extension": ".py",
   "mimetype": "text/x-python",
   "name": "python",
   "nbconvert_exporter": "python",
   "pygments_lexer": "ipython3",
   "version": "3.12.3"
  }
 },
 "nbformat": 4,
 "nbformat_minor": 2
}
