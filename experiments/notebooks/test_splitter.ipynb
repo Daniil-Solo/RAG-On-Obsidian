{
 "cells": [
  {
   "cell_type": "code",
   "execution_count": 1,
   "metadata": {},
   "outputs": [
    {
     "name": "stderr",
     "output_type": "stream",
     "text": [
      "/home/ilgiz/dev/RAG-On-Obsidian/venv/lib/python3.12/site-packages/tqdm/auto.py:21: TqdmWarning: IProgress not found. Please update jupyter and ipywidgets. See https://ipywidgets.readthedocs.io/en/stable/user_install.html\n",
      "  from .autonotebook import tqdm as notebook_tqdm\n"
     ]
    }
   ],
   "source": [
    "from embedder import sentence_embedder\n",
    "from vector_db import qdrant_client, collection_name\n",
    "from text_splitter import CustomTextSplitter\n",
    "from retriever import CustomRetriever\n",
    "from utils import folder_into_db_collection, file_into_db_collection"
   ]
  },
  {
   "cell_type": "code",
   "execution_count": 2,
   "metadata": {},
   "outputs": [],
   "source": [
    "text_splitter = CustomTextSplitter(chunk_size=512, chunk_overlap=256)"
   ]
  },
  {
   "cell_type": "code",
   "execution_count": 3,
   "metadata": {},
   "outputs": [
    {
     "name": "stdout",
     "output_type": "stream",
     "text": [
      "REST (REpresentational State Transfer) -  архитектурный стиль  взаимодействия компонентов распределённого приложения в сети.\n",
      "Он отличается от SOAP тем, что не является протоколом и стандартом.\n",
      "********************\n",
      "Требования\n",
      "\n",
      "1. Модель клиент-сервер - разграничение на две стороны\n",
      "2. Stateless - вся необходимая информация находится в самом запросе/ответе\n",
      "3. Кэширование - реализуется на промежуточных серверах, необходимо для повышения производительности, сервер должен сам определить что кэшировать и как долго\n",
      "4. Унифицированный интерфейс - идентификация ресурсов по URI\n",
      "5. Уровневая структура - \n",
      "6. Код по требованию - сервер может передать код для клиента\n",
      "********************\n",
      "Плохие варианты\n",
      "\n",
      "- Введение новых HTTP-методов\n",
      "- `/missiles/[id]?action=launch` - действия в параметре запроса\n",
      "- `/missiles/[id]/launch` - глагол в URI\n",
      "\n",
      "[#]+ Хорошие варианты\n",
      "\n",
      "Самый простой и сравнительно честный способ оформлять «действия» в REST — вводить ресурс, представляющий результат этого действия\n",
      "\n",
      "- `/users/[id]/cars`\n",
      "-\n",
      "********************\n"
     ]
    }
   ],
   "source": [
    "for item in file_into_db_collection(\"../data/KnowledgeStore\", \"REST.md\",\n",
    "                        qdrant_client, text_splitter, sentence_embedder):\n",
    "    print(item)\n",
    "    print('*' * 20)"
   ]
  },
  {
   "cell_type": "code",
   "execution_count": 4,
   "metadata": {},
   "outputs": [
    {
     "name": "stdout",
     "output_type": "stream",
     "text": [
      "192\n",
      "REST (REpresentational State Transfer) -  архитектурный стиль  взаимодействия компонентов распределённого приложения в сети.\n",
      "Он отличается от SOAP тем, что не является протоколом и стандартом.\n",
      "========================================\n",
      "446\n",
      "Требования\n",
      "\n",
      "1. Модель клиент-сервер - разграничение на две стороны\n",
      "2. Stateless - вся необходимая информация находится в самом запросе/ответе\n",
      "3. Кэширование - реализуется на промежуточных серверах, необходимо для повышения производительности, сервер должен сам определить что кэшировать и как долго\n",
      "4. Унифицированный интерфейс - идентификация ресурсов по URI\n",
      "5. Уровневая структура - \n",
      "6. Код по требованию - сервер может передать код для клиента\n",
      "========================================\n",
      "329\n",
      "Плохие варианты\n",
      "\n",
      "- Введение новых HTTP-методов\n",
      "- `/missiles/[id]?action=launch` - действия в параметре запроса\n",
      "- `/missiles/[id]/launch` - глагол в URI\n",
      "\n",
      "[#]+ Хорошие варианты\n",
      "\n",
      "Самый простой и сравнительно честный способ оформлять «действия» в REST — вводить ресурс, представляющий результат этого действия\n",
      "\n",
      "- `/users/[id]/cars`\n",
      "-\n",
      "========================================\n"
     ]
    }
   ],
   "source": [
    "with open(\"../data/KnowledgeStore/REST.md\", 'r') as file:\n",
    "    content = file.read()\n",
    "    for item in text_splitter.split_text(content):\n",
    "        print(len(item))\n",
    "        print(item)\n",
    "        print('====' * 10)"
   ]
  }
 ],
 "metadata": {
  "kernelspec": {
   "display_name": "venv",
   "language": "python",
   "name": "python3"
  },
  "language_info": {
   "codemirror_mode": {
    "name": "ipython",
    "version": 3
   },
   "file_extension": ".py",
   "mimetype": "text/x-python",
   "name": "python",
   "nbconvert_exporter": "python",
   "pygments_lexer": "ipython3",
   "version": "3.12.3"
  }
 },
 "nbformat": 4,
 "nbformat_minor": 2
}
