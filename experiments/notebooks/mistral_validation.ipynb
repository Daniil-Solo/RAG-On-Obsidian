{
 "cells": [
  {
   "cell_type": "code",
   "execution_count": 1,
   "metadata": {},
   "outputs": [],
   "source": [
    "import os\n",
    "import time\n",
    "\n",
    "import pandas as pd\n",
    "from qdrant_client import QdrantClient\n",
    "from qdrant_client.http.models import VectorParams\n",
    "from qdrant_client.http.models import Distance\n",
    "\n",
    "from text_splitter import CustomTextSplitter\n",
    "from metrics import average_precision_at_k\n",
    "from mistralai import Mistral"
   ]
  },
  {
   "cell_type": "code",
   "execution_count": 2,
   "metadata": {},
   "outputs": [],
   "source": [
    "def get_sentences_embeddings_mistral(sentences, client_mistral, model_name):\n",
    "    embeddings_batch_response = client_mistral.embeddings.create(\n",
    "        model=model_name,\n",
    "        inputs=sentences,\n",
    "    )\n",
    "    return [item.embedding for item in embeddings_batch_response.data]"
   ]
  },
  {
   "cell_type": "code",
   "execution_count": 3,
   "metadata": {},
   "outputs": [],
   "source": [
    "def file_into_db_collection(\n",
    "        root, filename, db_client, text_splitter, mistral_client,\n",
    "        embedder_name, collection_name=\"obsidian-vault\"):\n",
    "    if filename.endswith(\".md\"):\n",
    "        file_path = os.path.join(root, filename)\n",
    "        with open(file_path, 'r') as file:\n",
    "            content = file.read()\n",
    "            if content.strip() == '':\n",
    "                content += 'Bla bla'\n",
    "            print(filename)\n",
    "            print(len(content))\n",
    "            splitted_texts = text_splitter.split_text(content)\n",
    "            print(f'splitted_texts: {len(splitted_texts)}')\n",
    "            time.sleep(2)\n",
    "            embeds = get_sentences_embeddings_mistral(\n",
    "                splitted_texts, mistral_client, embedder_name)\n",
    "            payload = [{\n",
    "                'file_path': file_path,\n",
    "                'filename': filename,\n",
    "                'text': text_chunk}\n",
    "                for text_chunk in splitted_texts]\n",
    "            db_client.upload_collection(\n",
    "                collection_name=collection_name,\n",
    "                vectors=embeds,\n",
    "                payload=payload\n",
    "            )\n",
    "\n",
    "\n",
    "def folder_into_db_collection(\n",
    "        folder_path, db_client, text_splitter, mistral_client,\n",
    "        embedder_name, collection_name=\"obsidian-vault\"):\n",
    "    for root, _, files in os.walk(folder_path):\n",
    "        for filename in files:\n",
    "            file_into_db_collection(\n",
    "                root, filename, db_client, text_splitter, mistral_client,\n",
    "                embedder_name, collection_name)"
   ]
  },
  {
   "cell_type": "code",
   "execution_count": 4,
   "metadata": {},
   "outputs": [],
   "source": [
    "class CustomRetriever:\n",
    "    def __init__(self, qdrant_client, client, collection_name: str,\n",
    "                 model_name):\n",
    "        self.qdrant_client = qdrant_client\n",
    "        self.client = client\n",
    "        self.collection_name = collection_name\n",
    "        self.model_name = model_name\n",
    "\n",
    "    def get_relevant_documents(self, query, limit=5):\n",
    "        query_embed = get_sentences_embeddings_mistral(\n",
    "            [query], self.client, self.model_name)[0]\n",
    "        results = self.qdrant_client.search(\n",
    "            collection_name=self.collection_name,\n",
    "            query_vector=query_embed,\n",
    "            limit=limit,\n",
    "        )\n",
    "        return results"
   ]
  },
  {
   "cell_type": "code",
   "execution_count": 5,
   "metadata": {},
   "outputs": [],
   "source": [
    "validation_data = pd.read_csv('../data/validation_dataset.csv')\n",
    "questions = validation_data.question.to_list()\n",
    "related_documents = validation_data.related_documents.to_list()\n",
    "for i in range(len(related_documents)):\n",
    "    related_documents[i] = related_documents[i].split(',')"
   ]
  },
  {
   "cell_type": "code",
   "execution_count": 6,
   "metadata": {},
   "outputs": [],
   "source": [
    "url = \"http://localhost:6333\"\n",
    "qdrant_client = QdrantClient(url)"
   ]
  },
  {
   "cell_type": "code",
   "execution_count": 7,
   "metadata": {},
   "outputs": [],
   "source": [
    "embedder_names = [\n",
    "    \"mistral-embed\",\n",
    "    ]\n",
    "chunk_sizes = [1024, 1536, 2048]"
   ]
  },
  {
   "cell_type": "code",
   "execution_count": 8,
   "metadata": {},
   "outputs": [],
   "source": [
    "columns = ['AP_K', 'embedder_name', 'metric_name', 'chunk_size']\n",
    "# df_metrics = pd.DataFrame(columns=columns)\n",
    "df_metrics = pd.read_csv('metrics_mistral.csv')"
   ]
  },
  {
   "cell_type": "code",
   "execution_count": null,
   "metadata": {},
   "outputs": [],
   "source": [
    "collection_name = \"obsidian-vault\"\n",
    "for embedder_name in embedder_names:\n",
    "    api_key = '7BosjafdF1EQlDTpFWrFB7EpMWrSDyuN'\n",
    "    client = Mistral(api_key=api_key)\n",
    "    for chunk_size in chunk_sizes:\n",
    "        VECTOR_SIZE = len(get_sentences_embeddings_mistral(\n",
    "            ['Hello, world!'], client, model_name=\"mistral-embed\")[0])\n",
    "        qdrant_client.recreate_collection(\n",
    "            collection_name=collection_name,\n",
    "            vectors_config=VectorParams(\n",
    "                size=VECTOR_SIZE,\n",
    "                distance=Distance.COSINE),\n",
    "        )\n",
    "        folder_into_db_collection(\n",
    "            '../data/KnowledgeStore',\n",
    "            qdrant_client,\n",
    "            CustomTextSplitter(\n",
    "                chunk_size=chunk_size,\n",
    "                chunk_overlap=chunk_size // 2),\n",
    "            mistral_client=client,\n",
    "            embedder_name=embedder_name)\n",
    "        retriever = CustomRetriever(\n",
    "            qdrant_client=qdrant_client,\n",
    "            client=client,\n",
    "            collection_name=collection_name,\n",
    "            model_name=embedder_name,\n",
    "            )\n",
    "        ap_K = []\n",
    "        for i, question in enumerate(questions):\n",
    "            search_results = retriever.get_relevant_documents(\n",
    "                question, limit=10)\n",
    "            time.sleep(2)\n",
    "            search_results = [result.payload['filename']\n",
    "                              for result in search_results]\n",
    "            ap_K.append(average_precision_at_k(\n",
    "                search_results, related_documents[i], 10))\n",
    "        AP_K = sum(ap_K) / len(ap_K)\n",
    "        new_row = pd.DataFrame((AP_K, embedder_name, 'cosine', chunk_size),\n",
    "                                index=columns)\n",
    "        df_metrics = pd.concat(\n",
    "            [df_metrics, new_row.T], ignore_index=True)\n",
    "        df_metrics.to_csv('metrics_mistral.csv', index=False)\n",
    "    print(f'Finished {embedder_name}')"
   ]
  }
 ],
 "metadata": {
  "kernelspec": {
   "display_name": "venv",
   "language": "python",
   "name": "python3"
  },
  "language_info": {
   "codemirror_mode": {
    "name": "ipython",
    "version": 3
   },
   "file_extension": ".py",
   "mimetype": "text/x-python",
   "name": "python",
   "nbconvert_exporter": "python",
   "pygments_lexer": "ipython3",
   "version": "3.12.3"
  }
 },
 "nbformat": 4,
 "nbformat_minor": 2
}
