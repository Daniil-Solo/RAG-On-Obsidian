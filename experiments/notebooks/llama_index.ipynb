{
 "cells": [
  {
   "cell_type": "code",
   "execution_count": null,
   "metadata": {},
   "outputs": [],
   "source": [
    "import os\n",
    "\n",
    "from llama_index.core import VectorStoreIndex, SimpleDirectoryReader, ServiceContext\n",
    "from langchain.chat_models.gigachat import GigaChat\n",
    "from llama_index.core.node_parser import SentenceSplitter\n",
    "from langchain.embeddings.huggingface import HuggingFaceEmbeddings\n",
    "from llama_index.core import Settings"
   ]
  },
  {
   "cell_type": "code",
   "execution_count": null,
   "metadata": {},
   "outputs": [],
   "source": [
    "Settings.embed_model= HuggingFaceEmbeddings(\n",
    "    model_name=\"cointegrated/LaBSE-en-ru\"\n",
    ")"
   ]
  },
  {
   "cell_type": "code",
   "execution_count": null,
   "metadata": {},
   "outputs": [
    {
     "data": {
      "text/plain": [
       "True"
      ]
     },
     "execution_count": 57,
     "metadata": {},
     "output_type": "execute_result"
    }
   ],
   "source": [
    "from dotenv import load_dotenv\n",
    "load_dotenv('../.env')"
   ]
  },
  {
   "cell_type": "code",
   "execution_count": null,
   "metadata": {},
   "outputs": [],
   "source": [
    "giga_key = os.environ.get(\"SB_AUTH_DATA\")\n",
    "giga = GigaChat(credentials=giga_key,\n",
    "                model=\"GigaChat\",\n",
    "                timeout=30,\n",
    "                verify_ssl_certs=False)\n",
    "Settings.llm = giga"
   ]
  },
  {
   "cell_type": "code",
   "execution_count": null,
   "metadata": {},
   "outputs": [],
   "source": [
    "Settings.node_parser = SentenceSplitter(chunk_size=512, chunk_overlap=50)"
   ]
  },
  {
   "cell_type": "code",
   "execution_count": null,
   "metadata": {},
   "outputs": [],
   "source": [
    "documents = SimpleDirectoryReader(\"../data/KnowledgeStore\").load_data()\n",
    "index = VectorStoreIndex.from_documents(documents)\n",
    "query_engine = index.as_query_engine()\n"
   ]
  },
  {
   "cell_type": "code",
   "execution_count": null,
   "metadata": {},
   "outputs": [
    {
     "name": "stdout",
     "output_type": "stream",
     "text": [
      "The author did not mention their childhood or what they grew up doing in the provided context.\n"
     ]
    }
   ],
   "source": [
    "response = query_engine.query(\"What did the author do growing up?\")\n",
    "print(response)"
   ]
  },
  {
   "cell_type": "code",
   "execution_count": null,
   "metadata": {},
   "outputs": [
    {
     "name": "stdout",
     "output_type": "stream",
     "text": [
      "Based on the context, it is difficult to determine which programming language the author uses the most. The context mentions directory structures for different applications and file paths but does not provide information about the author's preferred programming languages.\n"
     ]
    }
   ],
   "source": [
    "response = query_engine.query(\"What programming languages author uses the most?\")\n",
    "print(response)"
   ]
  },
  {
   "cell_type": "code",
   "execution_count": null,
   "metadata": {},
   "outputs": [
    {
     "name": "stdout",
     "output_type": "stream",
     "text": [
      "Функции активации в контексте искусственного интеллекта и машинного обучения обычно относятся к математическим функциям, которые используются для преобразования значений из одного диапазона в другой в нейронных сетях. Они применяются после каждого слоя нейронов для \"активации\" или \"включения\" их выходных значений перед тем, как эти значения будут переданы на следующий слой.\n",
      "\n",
      "Некоторые из наиболее популярных функций активации включают:\n",
      "\n",
      "1. **Сигмоида (sigmoid)** - это S-образная функция, которая принимает любое вещественное значение и возвращает значение между 0 и 1. Она часто используется в задачах классификации, где требуется предсказать вероятность наступления определенного события.\n",
      "\n",
      "2. **Гиперболический тангенс (tanh)** - эта функция также принимает любые вещественные значения и возвращает значения в диапазоне от -1 до 1. Гиперболическая тангенциальная функция часто используется для нормализации значений между слоями нейронов.\n",
      "\n",
      "3. **ReLU (Rectified Linear Unit)** - функция ReLU является более простой и эффективной по сравнению с сигмоидой и гиперболической тангенцией. Она возвращает максимум из нуля и входного значения. ReLU стала популярной благодаря своей простоте и скорости обучения.\n",
      "\n",
      "4. **Leaky ReLU** - вариация ReLU, где вместо нуля используется небольшое положительное значение для отрицательных входов, что помогает избежать проблемы \"замерзания\" градиентов.\n",
      "\n",
      "5. **ELU (Exponential Linear Unit)** - еще одна модификация ReLU, которая имеет экспоненциальную функцию для отрицательных значений, что позволяет быстрее сходиться к глобальному минимуму.\n",
      "\n",
      "Эти функции активации играют важную роль в настройке нейронных сетей, так как они позволяют сети обучаться и адаптироваться к данным, улучшая точность прогнозирования и решения задач.\n"
     ]
    }
   ],
   "source": [
    "response = query_engine.query(\"Расскажи мне все что ты знаешь про функции активации?\")\n",
    "print(response)"
   ]
  },
  {
   "cell_type": "code",
   "execution_count": null,
   "metadata": {},
   "outputs": [
    {
     "name": "stdout",
     "output_type": "stream",
     "text": [
      "I'm sorry, but the context information provided does not include any details about the function of activation named \"OptimA\".\n"
     ]
    }
   ],
   "source": [
    "response = query_engine.query(\"Расскажи мне все что ты знаешь про функцию активации OptimA?\")\n",
    "print(response)"
   ]
  },
  {
   "cell_type": "code",
   "execution_count": null,
   "metadata": {},
   "outputs": [
    {
     "name": "stdout",
     "output_type": "stream",
     "text": [
      "There is no mention of OptimA in the provided context information.\n"
     ]
    }
   ],
   "source": [
    "response = query_engine.query(\"Tell me everything you know about OptimA?\")\n",
    "print(response)"
   ]
  },
  {
   "cell_type": "code",
   "execution_count": null,
   "metadata": {},
   "outputs": [
    {
     "name": "stdout",
     "output_type": "stream",
     "text": [
      "The custom activation function **OptimA** is designed to capture complex patterns in data by combining different nonlinear components. It aims to address key challenges in neural network training, such as gradient stability and expressive flexibility. The design of **OptimA** incorporates adjustable parameters to optimize performance across a wide range of tasks. With its trainable parameters and dual-component design, **OptimA** exhibits flexibility and stability, proving to be effective on a variety of machine learning tasks.\n"
     ]
    }
   ],
   "source": [
    "response = query_engine.query(\"Tell me everything you know about custom activation function OptimA?\")\n",
    "print(response)"
   ]
  },
  {
   "cell_type": "code",
   "execution_count": null,
   "metadata": {},
   "outputs": [],
   "source": []
  }
 ],
 "metadata": {
  "kernelspec": {
   "display_name": "venv",
   "language": "python",
   "name": "python3"
  },
  "language_info": {
   "codemirror_mode": {
    "name": "ipython",
    "version": 3
   },
   "file_extension": ".py",
   "mimetype": "text/x-python",
   "name": "python",
   "nbconvert_exporter": "python",
   "pygments_lexer": "ipython3",
   "version": "3.12.3"
  }
 },
 "nbformat": 4,
 "nbformat_minor": 2
}
